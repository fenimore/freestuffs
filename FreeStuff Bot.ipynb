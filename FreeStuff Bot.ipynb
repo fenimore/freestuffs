{
 "cells": [
  {
   "cell_type": "markdown",
   "metadata": {},
   "source": [
    "# Using Requests to Automate Free Stuff-finding"
   ]
  },
  {
   "cell_type": "code",
   "execution_count": 5,
   "metadata": {
    "collapsed": false
   },
   "outputs": [],
   "source": [
    "from lxml import html\n",
    "import requests"
   ]
  },
  {
   "cell_type": "markdown",
   "metadata": {},
   "source": [
    "## Define the Stuff object and its constructor"
   ]
  },
  {
   "cell_type": "code",
   "execution_count": 94,
   "metadata": {
    "collapsed": true
   },
   "outputs": [],
   "source": [
    "class Stuff(object):\n",
    "    thing = \"\"\n",
    "    url = \"\"\n",
    "    location = \"\"\n",
    "    #construct it!\n",
    "    def __init__(self, thing, url, location):\n",
    "        self.thing = thing\n",
    "        self.url = url\n",
    "        self.location = location\n",
    "    \n",
    "    def __str__(self):\n",
    "        return \"what:%s \\n where:%s \\n link:%s\" % (self.thing, self.location, self.url)\n",
    "        \n",
    "def gather_stuff(thing, url, location):\n",
    "    stuff = Stuff(thing, url, location)\n",
    "    return stuff"
   ]
  },
  {
   "cell_type": "markdown",
   "metadata": {},
   "source": [
    "## Plug in the Request and then parse, xpath, the stuff attributes"
   ]
  },
  {
   "cell_type": "code",
   "execution_count": 95,
   "metadata": {
    "collapsed": false
   },
   "outputs": [],
   "source": [
    "freestuff = requests.get('http://montreal.craigslist.com/search/zip')"
   ]
  },
  {
   "cell_type": "code",
   "execution_count": 96,
   "metadata": {
    "collapsed": false
   },
   "outputs": [],
   "source": [
    "freetree = html.fromstring(freestuff.text)\n",
    "stuffs = freetree.xpath('//a[@class=\"hdrlnk\"]/text()')\n",
    "urls = freetree.xpath('//a[@class=\"hdrlnk\"]/@href')\n",
    "locations = freetree.xpath('//span[@class=\"pnr\"]/small/text()')\n",
    "#images = freetree.xpath('//a[@class=\"i\"]/div[1]/div/div[1]/img/@src')"
   ]
  },
  {
   "cell_type": "markdown",
   "metadata": {},
   "source": [
    "### TODO: get images + dates posted"
   ]
  },
  {
   "cell_type": "code",
   "execution_count": 97,
   "metadata": {
    "collapsed": false
   },
   "outputs": [
    {
     "name": "stdout",
     "output_type": "stream",
     "text": [
      "what:À donner / Gratuit toner samsung CLP-300 \n",
      " where: (little italy) \n",
      " link:/zip/4975329124.html\n",
      "no\n"
     ]
    }
   ],
   "source": [
    "y = len(urls)\n",
    "freestuffs = [gather_stuff(stuffs[x], urls[x], locations[x]) for x in range(0,50)]\n",
    "print(str(freestuffs[0]))\n",
    "#get freestuffs which are in the right place\n",
    "if(freestuffs[0] == '(little italy)'): #doesn't work!!!!\n",
    "    print(\"yes\")\n",
    "else:\n",
    "    print(\"no\")"
   ]
  },
  {
   "cell_type": "code",
   "execution_count": 98,
   "metadata": {
    "collapsed": false
   },
   "outputs": [],
   "source": [
    "for x in range(0,50):\n",
    "    #print(freestuffs[x].location)\n",
    "    string = freestuffs[x].location\n",
    "    if(string == '(little italy)'):\n",
    "        print(freestuffs[x].location) #DOESN\"T WORK!"
   ]
  },
  {
   "cell_type": "code",
   "execution_count": 99,
   "metadata": {
    "collapsed": false
   },
   "outputs": [],
   "source": [
    "#base_url = 'http://montreal.craigslist.ca' #Unnecessary?\n",
    "#print(locations)p\n",
    "#print(urls)\n",
    "#print(stuffs)"
   ]
  },
  {
   "cell_type": "code",
   "execution_count": 100,
   "metadata": {
    "collapsed": false
   },
   "outputs": [
    {
     "name": "stdout",
     "output_type": "stream",
     "text": [
      "what:À donner / Gratuit toner samsung CLP-300 \n",
      " where: (little italy) \n",
      " link:/zip/4975329124.html\n",
      "what:5 gallon self watering bucket planter \n",
      " where: (Montreal West) \n",
      " link:/zip/4975258314.html\n",
      "what:Sofa BILTMORE Authentique/Classique Suivre|Partager |Imprimer|Signaler \n",
      " where: (near the olympic stadium) \n",
      " link:/zip/4975129544.html\n",
      "what:Space age Trecco bed headboard \n",
      " where: (COTE ST LUC) \n",
      " link:/zip/4974916731.html\n",
      "what:FREE ELECTRIC LAZY BOY \n",
      " where: (east plateau) \n",
      " link:/zip/4974763380.html\n"
     ]
    }
   ],
   "source": [
    "for x in range(0, 5):\n",
    "    print(str(freestuffs[x]))"
   ]
  },
  {
   "cell_type": "code",
   "execution_count": null,
   "metadata": {
    "collapsed": true
   },
   "outputs": [],
   "source": []
  },
  {
   "cell_type": "code",
   "execution_count": null,
   "metadata": {
    "collapsed": true
   },
   "outputs": [],
   "source": []
  }
 ],
 "metadata": {
  "kernelspec": {
   "display_name": "Python 3",
   "language": "python",
   "name": "python3"
  },
  "language_info": {
   "codemirror_mode": {
    "name": "ipython",
    "version": 3
   },
   "file_extension": ".py",
   "mimetype": "text/x-python",
   "name": "python",
   "nbconvert_exporter": "python",
   "pygments_lexer": "ipython3",
   "version": "3.4.3"
  }
 },
 "nbformat": 4,
 "nbformat_minor": 0
}
