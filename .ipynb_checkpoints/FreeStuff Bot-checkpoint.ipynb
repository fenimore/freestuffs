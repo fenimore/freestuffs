{
 "cells": [
  {
   "cell_type": "markdown",
   "metadata": {},
   "source": [
    "# Using Requests to Automate Free Stuff-finding"
   ]
  },
  {
   "cell_type": "code",
   "execution_count": 63,
   "metadata": {
    "collapsed": false
   },
   "outputs": [
    {
     "ename": "ImportError",
     "evalue": "No module named 'geopy'",
     "output_type": "error",
     "traceback": [
      "\u001b[1;31m---------------------------------------------------------------------------\u001b[0m",
      "\u001b[1;31mImportError\u001b[0m                               Traceback (most recent call last)",
      "\u001b[1;32m<ipython-input-63-1213346469a7>\u001b[0m in \u001b[0;36m<module>\u001b[1;34m()\u001b[0m\n\u001b[0;32m      2\u001b[0m \u001b[1;32mimport\u001b[0m \u001b[0mrequests\u001b[0m\u001b[1;33m\u001b[0m\u001b[0m\n\u001b[0;32m      3\u001b[0m \u001b[1;32mimport\u001b[0m \u001b[0mre\u001b[0m\u001b[1;33m\u001b[0m\u001b[0m\n\u001b[1;32m----> 4\u001b[1;33m \u001b[1;32mfrom\u001b[0m \u001b[0mgeopy\u001b[0m\u001b[1;33m.\u001b[0m\u001b[0mgeocoders\u001b[0m \u001b[1;32mimport\u001b[0m \u001b[0mNominatim\u001b[0m\u001b[1;33m\u001b[0m\u001b[0m\n\u001b[0m",
      "\u001b[1;31mImportError\u001b[0m: No module named 'geopy'"
     ]
    }
   ],
   "source": [
    "from lxml import html\n",
    "import requests\n",
    "import re\n",
    "from geopy.geocoders import Nominatim"
   ]
  },
  {
   "cell_type": "markdown",
   "metadata": {},
   "source": [
    "## Define the Stuff object and its constructor"
   ]
  },
  {
   "cell_type": "code",
   "execution_count": 55,
   "metadata": {
    "collapsed": true
   },
   "outputs": [],
   "source": [
    "class Stuff(object):\n",
    "    thing = \"\"\n",
    "    url = \"\"\n",
    "    location = \"\"\n",
    "    #construct it!\n",
    "    def __init__(self, thing, url, location):\n",
    "        self.thing = thing\n",
    "        self.url = url\n",
    "        self.location = str(location).strip(' ()')\n",
    "    \n",
    "    def __str__(self):\n",
    "        return \"what:%s \\n where:%s \\n link:%s\" % (self.thing, self.location, self.url)\n",
    "        \n",
    "def gather_stuff(thing, url, location):\n",
    "    stuff = Stuff(thing, url, location)\n",
    "    return stuff"
   ]
  },
  {
   "cell_type": "markdown",
   "metadata": {},
   "source": [
    "## Plug in the Request and then parse, xpath, the stuff attributes"
   ]
  },
  {
   "cell_type": "code",
   "execution_count": 56,
   "metadata": {
    "collapsed": false
   },
   "outputs": [],
   "source": [
    "freestuff = requests.get('http://montreal.craigslist.com/search/zip')"
   ]
  },
  {
   "cell_type": "code",
   "execution_count": 57,
   "metadata": {
    "collapsed": false
   },
   "outputs": [],
   "source": [
    "freetree = html.fromstring(freestuff.text)\n",
    "stuffs = freetree.xpath('//a[@class=\"hdrlnk\"]/text()')\n",
    "urls = freetree.xpath('//a[@class=\"hdrlnk\"]/@href')\n",
    "locations = freetree.xpath('//span[@class=\"pnr\"]/small/text()')\n",
    "#images = freetree.xpath('//a[@class=\"i\"]/div[1]/div/div[1]/img/@src')"
   ]
  },
  {
   "cell_type": "markdown",
   "metadata": {},
   "source": [
    "### TODO: get images + dates posted"
   ]
  },
  {
   "cell_type": "code",
   "execution_count": 61,
   "metadata": {
    "collapsed": false
   },
   "outputs": [
    {
     "name": "stdout",
     "output_type": "stream",
     "text": [
      "what:free kitchen table + matching chair set \n",
      " where:Ville Saint-Laurent \n",
      " link:/zip/4973050236.html\n"
     ]
    }
   ],
   "source": [
    "y = len(urls)\n",
    "freestuffs = [gather_stuff(stuffs[x], urls[x], locations[x]) for x in range(0,50)]\n",
    "print(str(freestuffs[11]))\n",
    "#get freestuffs which are in the right place"
   ]
  },
  {
   "cell_type": "markdown",
   "metadata": {},
   "source": [
    "# Geocode"
   ]
  },
  {
   "cell_type": "code",
   "execution_count": 62,
   "metadata": {
    "collapsed": false
   },
   "outputs": [
    {
     "ename": "NameError",
     "evalue": "name 'Nominatim' is not defined",
     "output_type": "error",
     "traceback": [
      "\u001b[1;31m---------------------------------------------------------------------------\u001b[0m",
      "\u001b[1;31mNameError\u001b[0m                                 Traceback (most recent call last)",
      "\u001b[1;32m<ipython-input-62-75de2a9715d8>\u001b[0m in \u001b[0;36m<module>\u001b[1;34m()\u001b[0m\n\u001b[1;32m----> 1\u001b[1;33m \u001b[0mgeolocator\u001b[0m \u001b[1;33m=\u001b[0m \u001b[0mNominatim\u001b[0m\u001b[1;33m(\u001b[0m\u001b[1;33m)\u001b[0m\u001b[1;33m\u001b[0m\u001b[0m\n\u001b[0m",
      "\u001b[1;31mNameError\u001b[0m: name 'Nominatim' is not defined"
     ]
    }
   ],
   "source": [
    "geolocator = Nominatim()"
   ]
  },
  {
   "cell_type": "code",
   "execution_count": 98,
   "metadata": {
    "collapsed": false
   },
   "outputs": [],
   "source": [
    "for x in range(0,50):\n",
    "    #print(freestuffs[x].location)\n",
    "    string = freestuffs[x].location\n",
    "    if(string == '(little italy)'):\n",
    "        print(freestuffs[x].location) #DOESN\"T WORK!"
   ]
  },
  {
   "cell_type": "code",
   "execution_count": 99,
   "metadata": {
    "collapsed": false
   },
   "outputs": [],
   "source": [
    "#base_url = 'http://montreal.craigslist.ca' #Unnecessary?\n",
    "#print(locations)p\n",
    "#print(urls)\n",
    "#print(stuffs)"
   ]
  },
  {
   "cell_type": "code",
   "execution_count": 100,
   "metadata": {
    "collapsed": false
   },
   "outputs": [
    {
     "name": "stdout",
     "output_type": "stream",
     "text": [
      "what:À donner / Gratuit toner samsung CLP-300 \n",
      " where: (little italy) \n",
      " link:/zip/4975329124.html\n",
      "what:5 gallon self watering bucket planter \n",
      " where: (Montreal West) \n",
      " link:/zip/4975258314.html\n",
      "what:Sofa BILTMORE Authentique/Classique Suivre|Partager |Imprimer|Signaler \n",
      " where: (near the olympic stadium) \n",
      " link:/zip/4975129544.html\n",
      "what:Space age Trecco bed headboard \n",
      " where: (COTE ST LUC) \n",
      " link:/zip/4974916731.html\n",
      "what:FREE ELECTRIC LAZY BOY \n",
      " where: (east plateau) \n",
      " link:/zip/4974763380.html\n"
     ]
    }
   ],
   "source": [
    "for x in range(0, 5):\n",
    "    print(str(freestuffs[x]))"
   ]
  },
  {
   "cell_type": "code",
   "execution_count": null,
   "metadata": {
    "collapsed": true
   },
   "outputs": [],
   "source": []
  },
  {
   "cell_type": "code",
   "execution_count": null,
   "metadata": {
    "collapsed": true
   },
   "outputs": [],
   "source": []
  }
 ],
 "metadata": {
  "kernelspec": {
   "display_name": "Python 3",
   "language": "python",
   "name": "python3"
  },
  "language_info": {
   "codemirror_mode": {
    "name": "ipython",
    "version": 3
   },
   "file_extension": ".py",
   "mimetype": "text/x-python",
   "name": "python",
   "nbconvert_exporter": "python",
   "pygments_lexer": "ipython3",
   "version": "3.4.3"
  }
 },
 "nbformat": 4,
 "nbformat_minor": 0
}
