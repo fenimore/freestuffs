{
 "cells": [
  {
   "cell_type": "markdown",
   "metadata": {},
   "source": [
    "# Using Requests to Automate Free Stuff-finding\n",
    "\n",
    "## This is obsolete, save the lxml part\n",
    "## See Freestuff Bot Notebook version 2\n",
    "Unlike Version 2 Notebook, this freestuff-bot uses xpath, which might be interesting, but not as effective for this purpose."
   ]
  },
  {
   "cell_type": "code",
   "execution_count": 3,
   "metadata": {
    "collapsed": false
   },
   "outputs": [],
   "source": [
    "from lxml import html\n",
    "import requests\n",
    "import re\n",
    "from geopy.geocoders import Nominatim"
   ]
  },
  {
   "cell_type": "markdown",
   "metadata": {},
   "source": [
    "## Define the Stuff object and its constructor"
   ]
  },
  {
   "cell_type": "code",
   "execution_count": 4,
   "metadata": {
    "collapsed": false
   },
   "outputs": [],
   "source": [
    "class Stuff(object):\n",
    "    thing = \"\"\n",
    "    url = \"\"\n",
    "    location = \"\"\n",
    "    coord = []\n",
    "    #construct it!\n",
    "    def set_coord(lat, lon):\n",
    "        self.coord = [lat, lon]\n",
    "        \n",
    "    def __init__(self, thing, url, location):\n",
    "        self.thing = thing\n",
    "        self.url = 'http://montreal.craigslist.ca' + url\n",
    "        place = str(location).strip(' ()')\n",
    "        self.location = \"montreal, \" + place\n",
    "    \n",
    "    def __str__(self):\n",
    "        return \"what:%s \\n where:%s \\n link:%s\" % (self.thing, self.location, self.url)\n",
    "        \n",
    "def gather_stuff(thing, url, location):\n",
    "    stuff = Stuff(thing, url, location)\n",
    "    return stuff\n",
    "\n",
    "def get_coordinates(location):\n",
    "    geolocator = Nominatim()\n",
    "    findit = geolocator.geocode(location)\n",
    "    lat = findit.latitude\n",
    "    lon = findit.longitude\n",
    "    coord = [lat, lon]\n",
    "    return coord"
   ]
  },
  {
   "cell_type": "markdown",
   "metadata": {},
   "source": [
    "## Plug in the Request and then parse, xpath, the stuff attributes"
   ]
  },
  {
   "cell_type": "code",
   "execution_count": 5,
   "metadata": {
    "collapsed": false
   },
   "outputs": [],
   "source": [
    "freestuff = requests.get('http://montreal.craigslist.com/search/zip')"
   ]
  },
  {
   "cell_type": "code",
   "execution_count": 6,
   "metadata": {
    "collapsed": false
   },
   "outputs": [],
   "source": [
    "freetree = html.fromstring(freestuff.text)\n",
    "stuffs = freetree.xpath('//a[@class=\"hdrlnk\"]/text()')\n",
    "urls = freetree.xpath('//a[@class=\"hdrlnk\"]/@href')\n",
    "locations = freetree.xpath('//span[@class=\"pnr\"]/small/text()')\n",
    "#images = freetree.xpath('//a[@class=\"i\"]/div[1]/div/div[1]/img/@src')"
   ]
  },
  {
   "cell_type": "code",
   "execution_count": 21,
   "metadata": {
    "collapsed": false
   },
   "outputs": [
    {
     "name": "stdout",
     "output_type": "stream",
     "text": [
      "[' (Montreal)', ' (COTE ST LUC)', ' (Montreal West)', ' (near the olympic stadium)', ' (COTE ST LUC)', ' (east plateau)', ' (verdun)', ' (163 Van Horne)', ' (Pointe-Saint-Charles)', ' (NDG)', ' (Montreal)', ' (Montreal)', ' (Ville Saint-Laurent)', ' (Laval)', ' (Montreal)', ' (east plateau)', ' (montreal)', ' (McGill)', ' (lachine)', ' (Metro Charlevoix)', ' (Centreville)', ' (Plateau)', ' (Longueuil)', ' (Ville St Laurent)', ' (Montreal West)', ' (montreal)', ' (St. Laurent)', ' (EV Building 8th floor)', ' (DDO)', ' (DDO)', ' (Beaubien Metro)', ' (NDG)', ' (Verdun)', ' (Pierrefonds)', ' (Pierrefonds)', ' (Beaconsfield)', ' (Lachine)', ' (Lachine)', ' (rosemont)', ' (Montreal)', ' (lachine)', ' (montreal)', ' (mile end)', ' (Rosemont / St. Denis)', ' (Monk Metro)', ' (Downtown)', ' (ST.Leonard)', ' (Laval)', ' (Parc extension)', ' (Mile End)', ' (west island)', ' (lasalle)', ' (R.D.P)', ' (parc ex)', ' (St. Henri (Notre-Dame and Workman))', ' (Verdun)', ' (St. Laurent)', ' (Peru)', ' (Peru)', ' (Jericho)', ' (Jericho)', ' (Schuyler Falls)', ' (South burlington)', ' (So. Ryegate)', ' (Colchester)', ' (126 Ethan Allen Parkway)', ' (Burlington)', ' (Burlington)', ' (N. Ferrisburg)', ' (hinesburg)', ' (NEK)']\n"
     ]
    }
   ],
   "source": [
    "image = freetree.xpath('//p[@class=\"row\"]/a/text()')\n",
    "print(locations)"
   ]
  },
  {
   "cell_type": "markdown",
   "metadata": {},
   "source": [
    "### TODO: get images + dates posted"
   ]
  },
  {
   "cell_type": "code",
   "execution_count": 97,
   "metadata": {
    "collapsed": false
   },
   "outputs": [
    {
     "name": "stdout",
     "output_type": "stream",
     "text": [
      "what:black hard hat \n",
      " where:montreal, near the olympic stadium \n",
      " link:http://montreal.craigslist.ca/zip/4943304379.html\n",
      "montreal, near the olympic stadium\n"
     ]
    }
   ],
   "source": [
    "freestuffs = [gather_stuff(stuffs[x], urls[x], locations[x]) for x in range(0,5)]\n",
    "print(str(freestuffs[2]))\n",
    "print(freestuffs[2].location)\n",
    "#get freestuffs which are in the right place"
   ]
  },
  {
   "cell_type": "code",
   "execution_count": 98,
   "metadata": {
    "collapsed": false
   },
   "outputs": [
    {
     "name": "stdout",
     "output_type": "stream",
     "text": [
      "montreal, COTE ST LUC\n"
     ]
    }
   ],
   "source": [
    "print(freestuffs[3].location)"
   ]
  },
  {
   "cell_type": "markdown",
   "metadata": {},
   "source": [
    "# Geocode"
   ]
  },
  {
   "cell_type": "code",
   "execution_count": 99,
   "metadata": {
    "collapsed": false
   },
   "outputs": [
    {
     "name": "stdout",
     "output_type": "stream",
     "text": [
      "Montréal-Ouest, Montréal (06), Québec, Canada 45.452853 -73.6442548\n"
     ]
    }
   ],
   "source": [
    "geolocator = Nominatim()\n",
    "findit = geolocator.geocode(freestuffs[1].location)\n",
    "if findit is not None:    \n",
    "    print(findit, findit.latitude, findit.longitude)\n"
   ]
  },
  {
   "cell_type": "code",
   "execution_count": 105,
   "metadata": {
    "collapsed": false
   },
   "outputs": [],
   "source": [
    "coordinates = get_coordinates(freestuffs[1].location)"
   ]
  },
  {
   "cell_type": "code",
   "execution_count": 31,
   "metadata": {
    "collapsed": false
   },
   "outputs": [
    {
     "name": "stdout",
     "output_type": "stream",
     "text": [
      "[45.5107735, -73.5648851]\n"
     ]
    }
   ],
   "source": [
    "print(get_coordinates('Ville Saint-Laurent'))"
   ]
  },
  {
   "cell_type": "code",
   "execution_count": null,
   "metadata": {
    "collapsed": false
   },
   "outputs": [],
   "source": []
  },
  {
   "cell_type": "code",
   "execution_count": null,
   "metadata": {
    "collapsed": false
   },
   "outputs": [],
   "source": []
  },
  {
   "cell_type": "code",
   "execution_count": 75,
   "metadata": {
    "collapsed": false
   },
   "outputs": [
    {
     "name": "stdout",
     "output_type": "stream",
     "text": [
      "what:ELECTRIC LAZY BOY CHAIR \n",
      " where:montreal, COTE ST LUC \n",
      " link:http://montreal.craigslist.ca/zip/4975872477.html\n",
      "what:plates + travel mug \n",
      " where:montreal, Montreal West \n",
      " link:http://montreal.craigslist.ca/zip/4932556841.html\n",
      "what:black hard hat \n",
      " where:montreal, near the olympic stadium \n",
      " link:http://montreal.craigslist.ca/zip/4943304379.html\n",
      "what:scrap wood \n",
      " where:montreal, COTE ST LUC \n",
      " link:http://montreal.craigslist.ca/zip/4958114761.html\n",
      "what:7 wine glasses \n",
      " where:montreal, east plateau \n",
      " link:http://montreal.craigslist.ca/zip/4932558871.html\n"
     ]
    }
   ],
   "source": [
    "for x in range(0, 5):\n",
    "    print(str(freestuffs[x]))"
   ]
  },
  {
   "cell_type": "code",
   "execution_count": null,
   "metadata": {
    "collapsed": true
   },
   "outputs": [],
   "source": []
  },
  {
   "cell_type": "code",
   "execution_count": null,
   "metadata": {
    "collapsed": true
   },
   "outputs": [],
   "source": []
  }
 ],
 "metadata": {
  "kernelspec": {
   "display_name": "Python 3",
   "language": "python",
   "name": "python3"
  },
  "language_info": {
   "codemirror_mode": {
    "name": "ipython",
    "version": 3
   },
   "file_extension": ".py",
   "mimetype": "text/x-python",
   "name": "python",
   "nbconvert_exporter": "python",
   "pygments_lexer": "ipython3",
   "version": "3.4.3"
  }
 },
 "nbformat": 4,
 "nbformat_minor": 0
}
