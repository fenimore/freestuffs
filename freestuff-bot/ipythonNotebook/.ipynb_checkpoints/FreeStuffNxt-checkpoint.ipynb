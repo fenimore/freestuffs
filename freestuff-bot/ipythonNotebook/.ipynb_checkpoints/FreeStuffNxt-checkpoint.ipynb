{
 "cells": [
  {
   "cell_type": "code",
   "execution_count": 1,
   "metadata": {
    "collapsed": false
   },
   "outputs": [],
   "source": [
    "# Imports | Cool kids import on one line\n",
    "from lxml import html\n",
    "import requests, re, folium, webbrowser\n",
    "from bs4 import BeautifulSoup"
   ]
  },
  {
   "cell_type": "markdown",
   "metadata": {},
   "source": [
    "# Class"
   ]
  },
  {
   "cell_type": "code",
   "execution_count": 2,
   "metadata": {
    "collapsed": true
   },
   "outputs": [],
   "source": [
    "class Stuff(object):\n",
    "    thing = \"\"\n",
    "    url = \"\"\n",
    "    location = \"\"\n",
    "    image = \"\"\n",
    "    #constructor the de-structor!!  \n",
    "    def __init__(self, thing, url, location, image):\n",
    "        self.thing = thing\n",
    "        self.url = 'http://montreal.craigslist.ca' + url\n",
    "        self.location = location\n",
    "        self.image = image #this isn't implemented yet\n",
    "\n",
    "    #the stringifing printer.... Python is so pretty\n",
    "    def __str__(self):\n",
    "        return \"what: %s \\n where: %s \\n link: %s \\n image: %s\" % (self.thing, self.location, self.url, self.image)"
   ]
  },
  {
   "cell_type": "markdown",
   "metadata": {},
   "source": [
    "##Some Functions"
   ]
  },
  {
   "cell_type": "code",
   "execution_count": 4,
   "metadata": {
    "collapsed": false
   },
   "outputs": [],
   "source": [
    "def setup_place():\n",
    "    user_place = input(\"What major city are you near? (or, 'help') \")\n",
    "    if user_place == \"help\":\n",
    "        print(\"craigslist serves many major cities, and the peripheral neighborhoods, try something like 'montreal' or 'newyork'\")\n",
    "        user_place = input(\"What major city are you near? \")\n",
    "    return user_place "
   ]
  },
  {
   "cell_type": "code",
   "execution_count": 5,
   "metadata": {
    "collapsed": false
   },
   "outputs": [],
   "source": [
    "def setup_page(user_place):\n",
    "    free_url = 'http://' + user_place +'.craigslist.com/search/zip'\n",
    "    try:\n",
    "        free_page = requests.get(free_url)\n",
    "        soup = BeautifulSoup(free_page.text)\n",
    "    except:\n",
    "        print(\"something when wrong\")\n",
    "    return soup"
   ]
  },
  {
   "cell_type": "code",
   "execution_count": 8,
   "metadata": {
    "collapsed": false
   },
   "outputs": [],
   "source": [
    "def get_images(soup):\n",
    "    free_images = []\n",
    "    for node in soup.find_all(\"a\", class_=\"i\"):\n",
    "        _img = node['data-ids']\n",
    "        _img.strip(\"0:\") # string the first two char\n",
    "        _img_url = \"https://images.craigslist.org/\" + _img + \"_300x300.jpg\"\n",
    "        free_images.append(_img_url)\n",
    "    return free_images\n",
    "\n",
    "def get_things(soup):\n",
    "    free_things = []\n",
    "    for node in soup.find_all(\"a\", class_=\"hdrlnk\"):\n",
    "        _thing = node.get_text()\n",
    "        free_things.append(_thing)\n",
    "    return free_things"
   ]
  },
  {
   "cell_type": "code",
   "execution_count": 6,
   "metadata": {
    "collapsed": false
   },
   "outputs": [
    {
     "name": "stdout",
     "output_type": "stream",
     "text": [
      "What major city are you near? (or, 'help') montreal\n"
     ]
    }
   ],
   "source": [
    "place = setup_place() # user place\n",
    "soup = setup_page(place) # soup, need"
   ]
  },
  {
   "cell_type": "code",
   "execution_count": 24,
   "metadata": {
    "collapsed": false
   },
   "outputs": [
    {
     "name": "stdout",
     "output_type": "stream",
     "text": [
      "0:00D0D_hbdx9teNxLR\n",
      "0:00A0A_cWTj0ARWrS4\n",
      "0:00S0S_fJ6x0fnIrs5,0:01515_5sqNN827eqz\n",
      "0:00P0P_eLEjYZVT1Dl\n",
      "0:00101_RO0aLkCHta\n",
      "0:00g0g_kRTINy3ZxWR,0:00d0d_3824mlFmKuN\n",
      "0:00g0g_ks4SWDrZQsV\n",
      "0:00t0t_aaS4uxLzX92,0:00B0B_bhwnXX6WPFh,0:00k0k_jdCjIpFNXUh\n",
      "0:00V0V_3OgQHaNLpLE\n",
      "0:00R0R_11bMcreAMFN\n",
      "woops\n",
      "woops\n",
      "0:00Y0Y_if2bgwTk733\n",
      "0:00202_5QDX8HLSjGL\n",
      "0:01515_aTcjbnvfgIF,0:00o0o_jeYZMmCYDcA\n",
      "woops\n",
      "0:00808_24GM7DFNnOG\n",
      "0:00x0x_11KlqWZaEGk,0:00f0f_iGVpEDL7tr8\n",
      "0:00x0x_2qhuq6IaKLn,0:00E0E_iOKve7K0y1W,0:00u0u_dlTnQZobyX8\n",
      "woops\n",
      "0:00R0R_bKwk8MUcIik\n",
      "0:01313_4JtXJ7869jk,0:00Q0Q_2rilX6WCr2k,0:00O0O_51ukfNs28XB,0:00D0D_hWAe2iHUvGD,0:00L0L_iaxdeWRHAaU\n",
      "woops\n",
      "0:00k0k_kyyA0rXoFnI,0:00I0I_59tv3xB7iEC\n",
      "woops\n",
      "0:00d0d_6ztaWoEUCKb\n",
      "woops\n",
      "woops\n",
      "0:00T0T_kaSTP93EDGy\n",
      "0:00202_1ZkKLSvsaI,0:00H0H_5UmMVwtdI4X\n",
      "0:00M0M_aSviS8mO8NA,0:00b0b_63oDo2mAhcX,0:00W0W_AXFp1cZCLS,0:00f0f_19oYQjP76bn,0:00T0T_2mEI6tpDryE,0:00S0S_1AQeBvoft6j,0:00x0x_ezlOrylYCUA\n",
      "0:01616_2oy74TeLqav\n",
      "0:00f0f_hbGwQjYLtd4\n",
      "woops\n",
      "0:00606_3JP8yZXir8O,0:00e0e_b9NkhyHEBM5\n",
      "woops\n",
      "woops\n",
      "woops\n",
      "0:00W0W_Spic8zA2ek\n",
      "0:00f0f_fJxt1uKiMAN,0:00000_awCs1U3KdVA,0:00V0V_glcShljpwYn\n",
      "0:01414_6uO1dK37Syd\n",
      "woops\n",
      "0:01414_aXVZlHVyyve\n",
      "woops\n",
      "woops\n",
      "0:00909_2CQ56nivhJv\n",
      "0:00D0D_eFXMrNOIL3f\n",
      "woops\n",
      "woops\n",
      "0:00V0V_3V6eazVSjPz,0:01515_fx3NxvsSAV7\n",
      "0:01717_fTicMUmJX5o\n",
      "0:00i0i_xy39TUpb3g,0:00000_e2kvqz7GosE,0:00E0E_lX7O2rfWA1X\n",
      "0:01010_f0SG6usL0ay,0:01010_g9gaodMV028\n",
      "0:00909_5l2icT84paN,0:01010_cMdOk4WNUci,0:00T0T_kFl7Je64mDE\n",
      "0:01414_jKWw7Iyt2t5\n",
      "0:01414_jFXVfABg0hb\n",
      "woops\n",
      "woops\n",
      "woops\n",
      "woops\n",
      "0:00I0I_9CKUqYspcFA,0:00f0f_7UYPIudp1yY\n",
      "woops\n",
      "woops\n",
      "0:00E0E_lX7O2rfWA1X,0:00I0I_3W5z1AI7fU5,0:00z0z_g58aEL699ez,0:00m0m_kNhM1rm7aar\n",
      "0:00I0I_8IErAJc8pI9\n",
      "woops\n",
      "woops\n",
      "0:00b0b_a72Q9dLUBRF,0:00606_33ZVkS464uA,0:00V0V_dMKlDG9SvmH,0:00D0D_32cfzHxtVpW\n",
      "0:00j0j_i5EOoJ78zC6\n",
      "0:01717_42wIF2x7UbO,0:00O0O_68wRofgtIGy\n",
      "woops\n",
      "woops\n",
      "woops\n",
      "0:00z0z_kaSKywIEhyp\n",
      "0:00s0s_cUblxyPUSaC,0:00E0E_avZuCOrTKhn\n",
      "0:00d0d_hfuJBhsDmf2\n",
      "woops\n",
      "0:00V0V_9iaZe8qFFV9\n",
      "woops\n",
      "0:00i0i_hnJE6ml5tRx,0:01313_fqsJ077CyMh\n",
      "woops\n",
      "0:00Q0Q_8gkLK5CCN5n\n",
      "0:00X0X_k63o00iBWTH,0:00q0q_51xduQ9kXKC,0:00q0q_cVmw5JDaRXQ,0:00a0a_3geDH2fieRk\n",
      "woops\n",
      "woops\n",
      "0:00b0b_iaOEbQLLeUW,0:00g0g_7lc7sfujlGs\n",
      "0:00Y0Y_1Nzx2RWFDLC\n",
      "woops\n",
      "woops\n",
      "woops\n",
      "woops\n",
      "woops\n",
      "woops\n",
      "0:00E0E_dBa4GCRCxy1\n",
      "0:01212_gdsZWUDDxaA\n",
      "woops\n",
      "0:00c0c_3bE3LkKTKaJ,0:00101_fuVzIU8f8hF,0:00f0f_9x1GyaAg8On\n",
      "0:00V0V_9b6kUkyNia2\n",
      "0:00f0f_fp6AvFM2SZ\n",
      "woops\n"
     ]
    }
   ],
   "source": [
    "for row in soup.find_all(\"a\", class_=\"i\"):\n",
    "    try:\n",
    "        print(row['data-ids'])\n",
    "    except:\n",
    "        print(\"woops\")\n",
    "        "
   ]
  },
  {
   "cell_type": "code",
   "execution_count": 111,
   "metadata": {
    "collapsed": false
   },
   "outputs": [],
   "source": [
    "def get_locations(user_place, soup):\n",
    "    free_locations = []\n",
    "    for span in soup.find_all(\"span\", class_=\"pnr\"):\n",
    "        loc_node = str(span.find('small'))\n",
    "        if loc_node == \"None\":\n",
    "            _loc = user_place +\", Somewhere\"\n",
    "        else:\n",
    "            _loc = loc_node.strip('<small ()</small>')\n",
    "            _loc = _loc + \", \" + user_place\n",
    "        #print(_loc)#\n",
    "        free_locations.append(_loc)\n",
    "    return free_locations"
   ]
  },
  {
   "cell_type": "code",
   "execution_count": 116,
   "metadata": {
    "collapsed": false
   },
   "outputs": [],
   "source": [
    "def get_urls(soup):\n",
    "    free_urls = []\n",
    "    for row in soup.find_all(\"a\", class_=\"i\"):\n",
    "        _url = row['href']\n",
    "        free_urls.append(_url)\n",
    "    return free_urls"
   ]
  },
  {
   "cell_type": "code",
   "execution_count": 146,
   "metadata": {
    "collapsed": false
   },
   "outputs": [
    {
     "name": "stdout",
     "output_type": "stream",
     "text": [
      "What major city are you near? (or, 'help') montreal\n"
     ]
    }
   ],
   "source": [
    "\"\"\"Set Up\"\"\"\n",
    "place = setup_place() # user place\n",
    "soup = setup_page(place) # soup, needs the user place for request\n",
    "\"\"\"Construction\"\"\"\n",
    "locs = get_locations(place, soup) # locations, needs user place for fine tuning\n",
    "urls = get_urls(soup) # urls of stuff\n",
    "things = get_things(soup) # things of stuff\n",
    "images = [1,2,3,4,5,6,7,8,9,0,0,0,0,0,0,0,0,0,0,0,] # get_images(soup) # WILL THIS EVERY WORK?\n",
    "\n",
    "\"\"\"Constructor Combobulator\"\"\"\n",
    "freestuffs = [Stuff(things[x], urls[x], locs[x], images[x]) for x in range(0,20)] "
   ]
  },
  {
   "cell_type": "code",
   "execution_count": 151,
   "metadata": {
    "collapsed": false
   },
   "outputs": [
    {
     "name": "stdout",
     "output_type": "stream",
     "text": [
      "\t what: À donner: Cabanon 12pi X 10pi \n",
      " where: montreal, Somewhere \n",
      " link: http://montreal.craigslist.ca/zip/5041484440.html \n",
      " image: 2\n"
     ]
    }
   ],
   "source": [
    "print(freestuffs[1])"
   ]
  },
  {
   "cell_type": "code",
   "execution_count": null,
   "metadata": {
    "collapsed": true
   },
   "outputs": [],
   "source": []
  }
 ],
 "metadata": {
  "kernelspec": {
   "display_name": "Python 3",
   "language": "python",
   "name": "python3"
  },
  "language_info": {
   "codemirror_mode": {
    "name": "ipython",
    "version": 3
   },
   "file_extension": ".py",
   "mimetype": "text/x-python",
   "name": "python",
   "nbconvert_exporter": "python",
   "pygments_lexer": "ipython3",
   "version": "3.4.3"
  }
 },
 "nbformat": 4,
 "nbformat_minor": 0
}
