{
 "cells": [
  {
   "cell_type": "code",
   "execution_count": 41,
   "metadata": {
    "collapsed": false
   },
   "outputs": [],
   "source": [
    "# Imports | Cool kids import on one line\n",
    "from lxml import html\n",
    "import requests, re, folium, webbrowser\n",
    "from bs4 import BeautifulSoup"
   ]
  },
  {
   "cell_type": "code",
   "execution_count": 148,
   "metadata": {
    "collapsed": true
   },
   "outputs": [],
   "source": [
    "class Stuff(object):\n",
    "    thing = \"\"\n",
    "    url = \"\"\n",
    "    location = \"\"\n",
    "    image = \"\"\n",
    "    #constructor the de-structor!!  \n",
    "    def __init__(self, thing, url, location, image):\n",
    "        self.thing = thing\n",
    "        self.url = 'http://montreal.craigslist.ca' + url\n",
    "        self.location = location\n",
    "        self.image = image #this isn't implemented yet\n",
    "\n",
    "    #the stringifing printer.... Python is so pretty\n",
    "    def __str__(self):\n",
    "        return \"what: %s \\n where: %s \\n link: %s \\n image: %s\" % (self.thing, self.location, self.url, self.image)"
   ]
  },
  {
   "cell_type": "code",
   "execution_count": 109,
   "metadata": {
    "collapsed": false
   },
   "outputs": [],
   "source": [
    "def setup_place():\n",
    "    user_place = input(\"What major city are you near? (or, 'help') \")\n",
    "    if user_place == \"help\":\n",
    "        print(\"craigslist serves many major cities, and the peripheral neighborhoods, try something like 'montreal' or 'newyork'\")\n",
    "        user_place = input(\"What major city are you near? \")\n",
    "    return user_place "
   ]
  },
  {
   "cell_type": "code",
   "execution_count": 110,
   "metadata": {
    "collapsed": false
   },
   "outputs": [],
   "source": [
    "def setup_page(user_place):\n",
    "    free_url = 'http://' + user_place +'.craigslist.com/search/zip'\n",
    "    try:\n",
    "        free_page = requests.get(free_url)\n",
    "        soup = BeautifulSoup(free_page.text)\n",
    "    except:\n",
    "        print(\"something when wrong\")\n",
    "    return soup"
   ]
  },
  {
   "cell_type": "code",
   "execution_count": 134,
   "metadata": {
    "collapsed": false
   },
   "outputs": [],
   "source": [
    "def get_images(soup):\n",
    "    free_images = []\n",
    "    for row in soup.find_all(\"a\", class_=\"i\"):\n",
    "        _url = row['href']\n",
    "        free_urls.append(_url)\n",
    "    return free_images\n",
    "\n",
    "def get_things(soup):\n",
    "    free_things = []\n",
    "    for node in soup.find_all(\"a\", class_=\"hdrlnk\"):\n",
    "        _thing = node.get_text()\n",
    "        free_things.append(_thing)\n",
    "    return free_things"
   ]
  },
  {
   "cell_type": "code",
   "execution_count": null,
   "metadata": {
    "collapsed": false
   },
   "outputs": [],
   "source": []
  },
  {
   "cell_type": "code",
   "execution_count": 111,
   "metadata": {
    "collapsed": false
   },
   "outputs": [],
   "source": [
    "def get_locations(user_place, soup):\n",
    "    free_locations = []\n",
    "    for span in soup.find_all(\"span\", class_=\"pnr\"):\n",
    "        loc_node = str(span.find('small'))\n",
    "        if loc_node == \"None\":\n",
    "            _loc = user_place +\", Somewhere\"\n",
    "        else:\n",
    "            _loc = loc_node.strip('<small ()</small>')\n",
    "            _loc = _loc + \", \" + user_place\n",
    "        #print(_loc)#\n",
    "        free_locations.append(_loc)\n",
    "    return free_locations"
   ]
  },
  {
   "cell_type": "code",
   "execution_count": 116,
   "metadata": {
    "collapsed": false
   },
   "outputs": [],
   "source": [
    "def get_urls(soup):\n",
    "    free_urls = []\n",
    "    for row in soup.find_all(\"a\", class_=\"i\"):\n",
    "        _url = row['href']\n",
    "        free_urls.append(_url)\n",
    "    return free_urls"
   ]
  },
  {
   "cell_type": "code",
   "execution_count": 146,
   "metadata": {
    "collapsed": false
   },
   "outputs": [
    {
     "name": "stdout",
     "output_type": "stream",
     "text": [
      "What major city are you near? (or, 'help') montreal\n"
     ]
    }
   ],
   "source": [
    "\"\"\"Set Up\"\"\"\n",
    "place = setup_place() # user place\n",
    "soup = setup_page(place) # soup, needs the user place for request\n",
    "\"\"\"Construction\"\"\"\n",
    "locs = get_locations(place, soup) # locations, needs user place for fine tuning\n",
    "urls = get_urls(soup) # urls of stuff\n",
    "things = get_things(soup) # things of stuff\n",
    "images = [1,2,3,4,5,6,7,8,9,0,0,0,0,0,0,0,0,0,0,0,] # get_images(soup) # WILL THIS EVERY WORK?\n",
    "\n",
    "\"\"\"Constructor Combobulator\"\"\"\n",
    "freestuffs = [Stuff(things[x], urls[x], locs[x], images[x]) for x in range(0,20)] "
   ]
  },
  {
   "cell_type": "code",
   "execution_count": 151,
   "metadata": {
    "collapsed": false
   },
   "outputs": [
    {
     "name": "stdout",
     "output_type": "stream",
     "text": [
      "\t what: À donner: Cabanon 12pi X 10pi \n",
      " where: montreal, Somewhere \n",
      " link: http://montreal.craigslist.ca/zip/5041484440.html \n",
      " image: 2\n"
     ]
    }
   ],
   "source": [
    "print(freestuffs[1])"
   ]
  },
  {
   "cell_type": "code",
   "execution_count": null,
   "metadata": {
    "collapsed": true
   },
   "outputs": [],
   "source": []
  }
 ],
 "metadata": {
  "kernelspec": {
   "display_name": "Python 3",
   "language": "python",
   "name": "python3"
  },
  "language_info": {
   "codemirror_mode": {
    "name": "ipython",
    "version": 3
   },
   "file_extension": ".py",
   "mimetype": "text/x-python",
   "name": "python",
   "nbconvert_exporter": "python",
   "pygments_lexer": "ipython3",
   "version": "3.4.3"
  }
 },
 "nbformat": 4,
 "nbformat_minor": 0
}
