{
 "cells": [
  {
   "cell_type": "code",
   "execution_count": 41,
   "metadata": {
    "collapsed": false
   },
   "outputs": [],
   "source": [
    "# Imports | Cool kids import on one line\n",
    "from lxml import html\n",
    "import requests, re, folium, webbrowser\n",
    "from bs4 import BeautifulSoup"
   ]
  },
  {
   "cell_type": "code",
   "execution_count": 42,
   "metadata": {
    "collapsed": true
   },
   "outputs": [],
   "source": [
    "#This Object is anything so-called Free\n",
    "##MAJOR BUG: When the location node is empty\n",
    "##           the object asumes the next stuff's \n",
    "##           location....\n",
    "##     this is the same problem for images\n",
    "#######################################\n",
    "class Stuff(object):\n",
    "    thing = \"\"\n",
    "    url = \"\"\n",
    "    location = \"\"\n",
    "    image = \"\"\n",
    "    #constructor the de-structor!!  \n",
    "    def __init__(self, thing, url, location, image):\n",
    "        self.thing = thing\n",
    "        self.url = 'http://montreal.craigslist.ca' + url\n",
    "        self.location = location\n",
    "        self.image = image #this isn't implemented yet\n",
    "\n",
    "    #the stringifing printer.... Python is so pretty\n",
    "    def __str__(self):\n",
    "        return \"what:%s \\n where:%s \\n link:%s \\n image:%s\" % (self.thing, self.location, self.url, self.image)"
   ]
  },
  {
   "cell_type": "code",
   "execution_count": 109,
   "metadata": {
    "collapsed": false
   },
   "outputs": [],
   "source": [
    "def setup_place():\n",
    "    user_place = input(\"What major city are you near? (or, 'help') \")\n",
    "    if user_place == \"help\":\n",
    "        print(\"craigslist serves many major cities, and the peripheral neighborhoods, try something like 'montreal' or 'newyork'\")\n",
    "        user_place = input(\"What major city are you near? \")\n",
    "    return user_place"
   ]
  },
  {
   "cell_type": "code",
   "execution_count": 110,
   "metadata": {
    "collapsed": false
   },
   "outputs": [],
   "source": [
    "def setup_page(user_place):\n",
    "    free_url = 'http://' + user_place +'.craigslist.com/search/zip'\n",
    "    try:\n",
    "        free_page = requests.get(free_url)\n",
    "        soup = BeautifulSoup(free_page.text)\n",
    "    except:\n",
    "        print(\"something when wrong\")\n",
    "    return soup"
   ]
  },
  {
   "cell_type": "code",
   "execution_count": 134,
   "metadata": {
    "collapsed": false
   },
   "outputs": [],
   "source": [
    "def get_images(soup):\n",
    "    free_images = []\n",
    "    for row in soup.find_all(\"a\", class_=\"i\"):\n",
    "        _url = row['href']\n",
    "        free_urls.append(_url)\n",
    "    return free_images\n",
    "\n",
    "def get_things(soup):\n",
    "    free_things = []\n",
    "    for node in soup.find_all(\"a\", class_=\"hdrlnk\"):\n",
    "        _thing = node.get_text()\n",
    "        free_things.append(_thing)\n",
    "    return free_things"
   ]
  },
  {
   "cell_type": "code",
   "execution_count": 131,
   "metadata": {
    "collapsed": false
   },
   "outputs": [
    {
     "name": "stdout",
     "output_type": "stream",
     "text": [
      "<img alt=\"\" class=\"loading\" src=\"//www.craigslist.org/images/animated-spinny.gif\"/>\n",
      "<img alt=\"\" class=\"payload\" src=\"//www.craigslist.org/images/animated-spinny.gif\"/>\n"
     ]
    }
   ],
   "source": [
    "free_images = []\n",
    "for node in soup.find_all('img'):\n",
    "    \"\"\"if img_node == \"None\":\n",
    "        _img = \"no image\"\n",
    "    else:\n",
    "        _img = img_node\"\"\"\n",
    "    print(node)"
   ]
  },
  {
   "cell_type": "code",
   "execution_count": 111,
   "metadata": {
    "collapsed": false
   },
   "outputs": [],
   "source": [
    "def get_locations(user_place, soup):\n",
    "    free_locations = []\n",
    "    for span in soup.find_all(\"span\", class_=\"pnr\"):\n",
    "        loc_node = str(span.find('small'))\n",
    "        if loc_node == \"None\":\n",
    "            _loc = user_place +\", Somewhere\"\n",
    "        else:\n",
    "            _loc = loc_node.strip('<small ()</small>')\n",
    "            _loc = _loc + \", \" + user_place\n",
    "        #print(_loc)#\n",
    "        free_locations.append(_loc)\n",
    "    return free_locations"
   ]
  },
  {
   "cell_type": "code",
   "execution_count": 116,
   "metadata": {
    "collapsed": false
   },
   "outputs": [],
   "source": [
    "def get_urls(soup):\n",
    "    free_urls = []\n",
    "    for row in soup.find_all(\"a\", class_=\"i\"):\n",
    "        _url = row['href']\n",
    "        free_urls.append(_url)\n",
    "    return free_urls"
   ]
  },
  {
   "cell_type": "code",
   "execution_count": 136,
   "metadata": {
    "collapsed": false
   },
   "outputs": [
    {
     "name": "stdout",
     "output_type": "stream",
     "text": [
      "What major city are you near? (or, 'help') montreal\n",
      "['Love Seat, Green Leather', 'À donner: Cabanon 12pi X 10pi', 'Free jogging stroller/palm tree painting/central vac pieces.', 'Double mattress & low bed frame/Matelas double & cadre bas', 'Propane Tank', 'Nano SIM card for UK', 'GOLF BAG WITH CLUBS', 'VERY LARGE MIRROR', 'Free JVC 32\" television', 'piano gratuit', 'Queen size Ikea mattress - come get it!', 'hiking boots - size 7', 'curb alert: free washer and dryer', '3 Goodyear \"Assurance\" tires 205/75R15', 'FREE Queen size sofa bed with mattress', 'Large glass-topped cherry wood cabinet', 'free Queen sized mattress and large filing cabinet village', 'Cross county skis, 3 psirs', 'Free armchair', 'Wood free........Bois gratuit', 'FREE TV GRATUIT', 'Acuvue Moist Daily Contact Lenses', 'Construction material', '14 SLIDE CAROUSELS', 'Reclining couch', 'Couple boxes of books', 'Magazines to give: Moi & Cie & some gardening', \"HEAPS & HEAPS OF FREE WOMEN'S CLOTHING\", 'Wheelchair Bag', 'Books in Dutch about Holland', 'Collecting Green PA Plastic Shopping Bags', 'Free stuff', 'SCAM ALERT - FREE FOOD', 'Free office chair - used', 'X5 steam mop to give away', 'Imperia M4 Aqua CASE', 'Free books on different topics most WEDNESDAY MORNINGS-8:30 TO 10:30AM', 'Free desk', 'Fauteuil Lazy boy', 'tv 20\"', 'Boites de Carton, Cardboard Boxes FREE!', 'Free boots', 'Dishes', 'Two IKEA CD towers', 'Couch chair free', 'Washing machine FREE', 'Free-Gratuit', 'CURB ALERT - FREE STUFF - LACHINE', 'Contemporary chandelier', 'Dresser, lamps', 'free LARGE tvs --*UPDATE*-- They work!', 'Free Cinderblocks', 'ghastly hinges & knobs', 'Television Lg 32\" a donner', 'TONS OF SMALL/MEDIUM SHIPPING BOXES (POST OFFICE)', 'Speedstream 5200', 'Curb alert! Decent stuff!', 'RE pep(per grinder)', 'FREE NOVELS+BOOKS on other topics MANY WEDNESDAY MORNINGS', 'Toshiba 34\" working TV with stand', '1000 crushed cans', '2 python and 2 corn snakes', 'FREE female clothes - size M-L', '*SCRAP ALERT* old fridge, 2 large sony TVs, blinds', '2 tv´s in perfect conditions.', 'FREE LARGE BABECUE', \"Guide de préparation � l'examen professionnel OIIQ\", 'Couch to give away', 'Free Couch - Brown Faux Leather -', 'FREE COUCH & LOVE SEAT COMBO', 'Sports and Educational Computer Games for Windows 95/98 **FREE**', 'Grade 5 and 6: Educational Activity Books', 'Numerous cassettes and tapes', 'Black Wooden Desk', 'À donner Tv JVC 32\"', 'TV 21 Inches with Remote', 'FREE NOVELS+OTHER BOOKS MANY WEDNESDAY MORNINGS', 'Black Leather Couches', 'cherche draps doubles looking for double sheets', 'FREE COUCH AND LOVE SEAT - GRATUIT!!!', 'FREE SAMSUNG TV', '27\" JVC Television', 'DESK', 'LAST CALL for Income Tax Forms Prov & Fed English', 'Free Czech Books', 'Free Couch and Table', 'MATTRESS & FURNITURE & FRAME', 'free stuff', 'Brides and Engaged Couples!', 'Curb alert - 2 queen mattresses!', 'free maple sapling', 'Curb Alert', 'Free Gulbransen Pacemaker Organ', 'Free Organic GARDEN SOIL / Earth', 'Free sofa/divan', 'Single bed - must go today', 'Curb alert TMR! Oak desk, mid century chair, white fake Xmas tree', 'Back Alley Art Exchange', '4-Drawer Grey Metal Filing Cabinet- No Longer Available', 'metal pipes']\n"
     ]
    }
   ],
   "source": [
    "place = setup_place()\n",
    "soup = setup_page(place)\n",
    "locs = get_locations(place, soup)\n",
    "urls = get_urls(soup)\n",
    "things = get_things(soup)\n",
    "print(things)"
   ]
  },
  {
   "cell_type": "code",
   "execution_count": null,
   "metadata": {
    "collapsed": true
   },
   "outputs": [],
   "source": []
  }
 ],
 "metadata": {
  "kernelspec": {
   "display_name": "Python 3",
   "language": "python",
   "name": "python3"
  },
  "language_info": {
   "codemirror_mode": {
    "name": "ipython",
    "version": 3
   },
   "file_extension": ".py",
   "mimetype": "text/x-python",
   "name": "python",
   "nbconvert_exporter": "python",
   "pygments_lexer": "ipython3",
   "version": "3.4.3"
  }
 },
 "nbformat": 4,
 "nbformat_minor": 0
}
